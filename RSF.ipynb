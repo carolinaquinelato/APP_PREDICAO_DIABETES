{
  "nbformat": 4,
  "nbformat_minor": 0,
  "metadata": {
    "colab": {
      "name": "RSF.ipynb",
      "provenance": [],
      "authorship_tag": "ABX9TyPqJM10xn9c9hG3RB4xWkKh",
      "include_colab_link": true
    },
    "kernelspec": {
      "name": "python3",
      "display_name": "Python 3"
    },
    "language_info": {
      "name": "python"
    }
  },
  "cells": [
    {
      "cell_type": "markdown",
      "metadata": {
        "id": "view-in-github",
        "colab_type": "text"
      },
      "source": [
        "<a href=\"https://colab.research.google.com/github/carolinaquinelato/APP_PREDICAO_DIABETES/blob/main/RSF.ipynb\" target=\"_parent\"><img src=\"https://colab.research.google.com/assets/colab-badge.svg\" alt=\"Open In Colab\"/></a>"
      ]
    },
    {
      "cell_type": "markdown",
      "source": [
        "# ANÁLISE DE SOBREVIDA PARA PACIENTES COM CÂNCER DE MAMA"
      ],
      "metadata": {
        "id": "S23fXVYPBsE3"
      }
    },
    {
      "cell_type": "code",
      "source": [
        "!pip install -q scikit-survival"
      ],
      "metadata": {
        "id": "DgSTjvyqZs3I"
      },
      "execution_count": null,
      "outputs": []
    },
    {
      "cell_type": "code",
      "source": [
        "import pandas as pd\n",
        "import matplotlib.pyplot as plt\n",
        "import numpy as np\n",
        "%matplotlib inline\n",
        "\n",
        "from sklearn.model_selection import train_test_split\n",
        "from sklearn.preprocessing import OrdinalEncoder\n",
        "from sklearn.model_selection import RandomizedSearchCV\n",
        "\n",
        "from sksurv.datasets import load_gbsg2\n",
        "from sksurv.preprocessing import OneHotEncoder\n",
        "from sksurv.ensemble import RandomSurvivalForest\n",
        "from sksurv.metrics import concordance_index_censored\n",
        "\n",
        "import pickle\n",
        "import joblib"
      ],
      "metadata": {
        "id": "_3jR8AeHBrQC"
      },
      "execution_count": null,
      "outputs": []
    },
    {
      "cell_type": "markdown",
      "source": [
        "# ANÁLISE EXPLORATÓRIA"
      ],
      "metadata": {
        "id": "2oaAwmWbB5zF"
      }
    },
    {
      "cell_type": "code",
      "source": [
        "link = 'https://raw.githubusercontent.com/carolinaquinelato/app_predicao_sobrevida/master/BancoR.csv'\n",
        "base = pd.read_csv(link, sep=';')\n",
        "base = base.drop(['Raca'], axis=1)"
      ],
      "metadata": {
        "id": "x_QId2G9CFPC"
      },
      "execution_count": null,
      "outputs": []
    },
    {
      "cell_type": "code",
      "source": [
        "base"
      ],
      "metadata": {
        "colab": {
          "base_uri": "https://localhost:8080/",
          "height": 424
        },
        "id": "xHI70UMtGXTM",
        "outputId": "0de5a058-671f-416c-987c-4c13a4960b7d"
      },
      "execution_count": null,
      "outputs": [
        {
          "output_type": "execute_result",
          "data": {
            "text/plain": [
              "      Idade  Estadiamento  TamanhoTumor  Estrogenio  Progesterona  \\\n",
              "0         2             1             1           1             1   \n",
              "1         2             1             1           1             1   \n",
              "2         1             2             1           1             1   \n",
              "3         2             2             2           1             1   \n",
              "4         1             1             1           1             1   \n",
              "...     ...           ...           ...         ...           ...   \n",
              "4019      2             2             2           1             1   \n",
              "4020      2             1             2           2             2   \n",
              "4021      2             2             2           2             2   \n",
              "4022      1             2             2           1             1   \n",
              "4023      1             2             2           1             1   \n",
              "\n",
              "      SurvivalMonths  Status  \n",
              "0                  1       0  \n",
              "1                  2       0  \n",
              "2                  2       1  \n",
              "3                  2       1  \n",
              "4                  3       1  \n",
              "...              ...     ...  \n",
              "4019             107       0  \n",
              "4020             107       0  \n",
              "4021             107       0  \n",
              "4022             107       0  \n",
              "4023             107       0  \n",
              "\n",
              "[4024 rows x 7 columns]"
            ],
            "text/html": [
              "\n",
              "  <div id=\"df-b4e1b899-c762-43de-8f2d-02935391ae3a\">\n",
              "    <div class=\"colab-df-container\">\n",
              "      <div>\n",
              "<style scoped>\n",
              "    .dataframe tbody tr th:only-of-type {\n",
              "        vertical-align: middle;\n",
              "    }\n",
              "\n",
              "    .dataframe tbody tr th {\n",
              "        vertical-align: top;\n",
              "    }\n",
              "\n",
              "    .dataframe thead th {\n",
              "        text-align: right;\n",
              "    }\n",
              "</style>\n",
              "<table border=\"1\" class=\"dataframe\">\n",
              "  <thead>\n",
              "    <tr style=\"text-align: right;\">\n",
              "      <th></th>\n",
              "      <th>Idade</th>\n",
              "      <th>Estadiamento</th>\n",
              "      <th>TamanhoTumor</th>\n",
              "      <th>Estrogenio</th>\n",
              "      <th>Progesterona</th>\n",
              "      <th>SurvivalMonths</th>\n",
              "      <th>Status</th>\n",
              "    </tr>\n",
              "  </thead>\n",
              "  <tbody>\n",
              "    <tr>\n",
              "      <th>0</th>\n",
              "      <td>2</td>\n",
              "      <td>1</td>\n",
              "      <td>1</td>\n",
              "      <td>1</td>\n",
              "      <td>1</td>\n",
              "      <td>1</td>\n",
              "      <td>0</td>\n",
              "    </tr>\n",
              "    <tr>\n",
              "      <th>1</th>\n",
              "      <td>2</td>\n",
              "      <td>1</td>\n",
              "      <td>1</td>\n",
              "      <td>1</td>\n",
              "      <td>1</td>\n",
              "      <td>2</td>\n",
              "      <td>0</td>\n",
              "    </tr>\n",
              "    <tr>\n",
              "      <th>2</th>\n",
              "      <td>1</td>\n",
              "      <td>2</td>\n",
              "      <td>1</td>\n",
              "      <td>1</td>\n",
              "      <td>1</td>\n",
              "      <td>2</td>\n",
              "      <td>1</td>\n",
              "    </tr>\n",
              "    <tr>\n",
              "      <th>3</th>\n",
              "      <td>2</td>\n",
              "      <td>2</td>\n",
              "      <td>2</td>\n",
              "      <td>1</td>\n",
              "      <td>1</td>\n",
              "      <td>2</td>\n",
              "      <td>1</td>\n",
              "    </tr>\n",
              "    <tr>\n",
              "      <th>4</th>\n",
              "      <td>1</td>\n",
              "      <td>1</td>\n",
              "      <td>1</td>\n",
              "      <td>1</td>\n",
              "      <td>1</td>\n",
              "      <td>3</td>\n",
              "      <td>1</td>\n",
              "    </tr>\n",
              "    <tr>\n",
              "      <th>...</th>\n",
              "      <td>...</td>\n",
              "      <td>...</td>\n",
              "      <td>...</td>\n",
              "      <td>...</td>\n",
              "      <td>...</td>\n",
              "      <td>...</td>\n",
              "      <td>...</td>\n",
              "    </tr>\n",
              "    <tr>\n",
              "      <th>4019</th>\n",
              "      <td>2</td>\n",
              "      <td>2</td>\n",
              "      <td>2</td>\n",
              "      <td>1</td>\n",
              "      <td>1</td>\n",
              "      <td>107</td>\n",
              "      <td>0</td>\n",
              "    </tr>\n",
              "    <tr>\n",
              "      <th>4020</th>\n",
              "      <td>2</td>\n",
              "      <td>1</td>\n",
              "      <td>2</td>\n",
              "      <td>2</td>\n",
              "      <td>2</td>\n",
              "      <td>107</td>\n",
              "      <td>0</td>\n",
              "    </tr>\n",
              "    <tr>\n",
              "      <th>4021</th>\n",
              "      <td>2</td>\n",
              "      <td>2</td>\n",
              "      <td>2</td>\n",
              "      <td>2</td>\n",
              "      <td>2</td>\n",
              "      <td>107</td>\n",
              "      <td>0</td>\n",
              "    </tr>\n",
              "    <tr>\n",
              "      <th>4022</th>\n",
              "      <td>1</td>\n",
              "      <td>2</td>\n",
              "      <td>2</td>\n",
              "      <td>1</td>\n",
              "      <td>1</td>\n",
              "      <td>107</td>\n",
              "      <td>0</td>\n",
              "    </tr>\n",
              "    <tr>\n",
              "      <th>4023</th>\n",
              "      <td>1</td>\n",
              "      <td>2</td>\n",
              "      <td>2</td>\n",
              "      <td>1</td>\n",
              "      <td>1</td>\n",
              "      <td>107</td>\n",
              "      <td>0</td>\n",
              "    </tr>\n",
              "  </tbody>\n",
              "</table>\n",
              "<p>4024 rows × 7 columns</p>\n",
              "</div>\n",
              "      <button class=\"colab-df-convert\" onclick=\"convertToInteractive('df-b4e1b899-c762-43de-8f2d-02935391ae3a')\"\n",
              "              title=\"Convert this dataframe to an interactive table.\"\n",
              "              style=\"display:none;\">\n",
              "        \n",
              "  <svg xmlns=\"http://www.w3.org/2000/svg\" height=\"24px\"viewBox=\"0 0 24 24\"\n",
              "       width=\"24px\">\n",
              "    <path d=\"M0 0h24v24H0V0z\" fill=\"none\"/>\n",
              "    <path d=\"M18.56 5.44l.94 2.06.94-2.06 2.06-.94-2.06-.94-.94-2.06-.94 2.06-2.06.94zm-11 1L8.5 8.5l.94-2.06 2.06-.94-2.06-.94L8.5 2.5l-.94 2.06-2.06.94zm10 10l.94 2.06.94-2.06 2.06-.94-2.06-.94-.94-2.06-.94 2.06-2.06.94z\"/><path d=\"M17.41 7.96l-1.37-1.37c-.4-.4-.92-.59-1.43-.59-.52 0-1.04.2-1.43.59L10.3 9.45l-7.72 7.72c-.78.78-.78 2.05 0 2.83L4 21.41c.39.39.9.59 1.41.59.51 0 1.02-.2 1.41-.59l7.78-7.78 2.81-2.81c.8-.78.8-2.07 0-2.86zM5.41 20L4 18.59l7.72-7.72 1.47 1.35L5.41 20z\"/>\n",
              "  </svg>\n",
              "      </button>\n",
              "      \n",
              "  <style>\n",
              "    .colab-df-container {\n",
              "      display:flex;\n",
              "      flex-wrap:wrap;\n",
              "      gap: 12px;\n",
              "    }\n",
              "\n",
              "    .colab-df-convert {\n",
              "      background-color: #E8F0FE;\n",
              "      border: none;\n",
              "      border-radius: 50%;\n",
              "      cursor: pointer;\n",
              "      display: none;\n",
              "      fill: #1967D2;\n",
              "      height: 32px;\n",
              "      padding: 0 0 0 0;\n",
              "      width: 32px;\n",
              "    }\n",
              "\n",
              "    .colab-df-convert:hover {\n",
              "      background-color: #E2EBFA;\n",
              "      box-shadow: 0px 1px 2px rgba(60, 64, 67, 0.3), 0px 1px 3px 1px rgba(60, 64, 67, 0.15);\n",
              "      fill: #174EA6;\n",
              "    }\n",
              "\n",
              "    [theme=dark] .colab-df-convert {\n",
              "      background-color: #3B4455;\n",
              "      fill: #D2E3FC;\n",
              "    }\n",
              "\n",
              "    [theme=dark] .colab-df-convert:hover {\n",
              "      background-color: #434B5C;\n",
              "      box-shadow: 0px 1px 3px 1px rgba(0, 0, 0, 0.15);\n",
              "      filter: drop-shadow(0px 1px 2px rgba(0, 0, 0, 0.3));\n",
              "      fill: #FFFFFF;\n",
              "    }\n",
              "  </style>\n",
              "\n",
              "      <script>\n",
              "        const buttonEl =\n",
              "          document.querySelector('#df-b4e1b899-c762-43de-8f2d-02935391ae3a button.colab-df-convert');\n",
              "        buttonEl.style.display =\n",
              "          google.colab.kernel.accessAllowed ? 'block' : 'none';\n",
              "\n",
              "        async function convertToInteractive(key) {\n",
              "          const element = document.querySelector('#df-b4e1b899-c762-43de-8f2d-02935391ae3a');\n",
              "          const dataTable =\n",
              "            await google.colab.kernel.invokeFunction('convertToInteractive',\n",
              "                                                     [key], {});\n",
              "          if (!dataTable) return;\n",
              "\n",
              "          const docLinkHtml = 'Like what you see? Visit the ' +\n",
              "            '<a target=\"_blank\" href=https://colab.research.google.com/notebooks/data_table.ipynb>data table notebook</a>'\n",
              "            + ' to learn more about interactive tables.';\n",
              "          element.innerHTML = '';\n",
              "          dataTable['output_type'] = 'display_data';\n",
              "          await google.colab.output.renderOutput(dataTable, element);\n",
              "          const docLink = document.createElement('div');\n",
              "          docLink.innerHTML = docLinkHtml;\n",
              "          element.appendChild(docLink);\n",
              "        }\n",
              "      </script>\n",
              "    </div>\n",
              "  </div>\n",
              "  "
            ]
          },
          "metadata": {},
          "execution_count": 7
        }
      ]
    },
    {
      "cell_type": "markdown",
      "source": [
        "![image.png](data:image/png;base64,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)\n"
      ],
      "metadata": {
        "id": "63PM2qE5G8HA"
      }
    },
    {
      "cell_type": "markdown",
      "source": [
        "Ver censuras"
      ],
      "metadata": {
        "id": "U4ndvlmbKJ5y"
      }
    },
    {
      "cell_type": "code",
      "source": [
        "print(f'Number of samples: {len(base)}')\n",
        "print(f'Number of right censored samples: {len(base.query(\"Status == 0\"))}')\n",
        "print(f'Percentage of right censored samples: {100*len(base.query(\"Status == 0\"))/len(base):.1f}%')"
      ],
      "metadata": {
        "colab": {
          "base_uri": "https://localhost:8080/"
        },
        "id": "lTsdlsb8KLbW",
        "outputId": "8ddd62da-fb41-4eaa-b638-36f27e7f57aa"
      },
      "execution_count": null,
      "outputs": [
        {
          "output_type": "stream",
          "name": "stdout",
          "text": [
            "Number of samples: 4024\n",
            "Number of right censored samples: 3408\n",
            "Percentage of right censored samples: 84.7%\n"
          ]
        }
      ]
    },
    {
      "cell_type": "markdown",
      "source": [
        "# MODELO"
      ],
      "metadata": {
        "id": "nvoZS21bCDYN"
      }
    },
    {
      "cell_type": "markdown",
      "source": [
        "## Pré-processamento"
      ],
      "metadata": {
        "id": "Xf0l0HK8MIyx"
      }
    },
    {
      "cell_type": "markdown",
      "source": [
        "Separando o que são variáveis independentes e o que é variável resposta"
      ],
      "metadata": {
        "id": "9D9sf6ucJK58"
      }
    },
    {
      "cell_type": "code",
      "source": [
        "X = base[base.columns.to_list()[:-2]]\n",
        "y = base[base.columns.to_list()[-2:]]"
      ],
      "metadata": {
        "id": "yyPNHNCjIOYI"
      },
      "execution_count": null,
      "outputs": []
    },
    {
      "cell_type": "code",
      "source": [
        "X.head().style.hide_index()"
      ],
      "metadata": {
        "colab": {
          "base_uri": "https://localhost:8080/",
          "height": 206
        },
        "id": "xsx6_J-YJXSJ",
        "outputId": "522cca81-3548-49f7-c5ec-08faa189885c"
      },
      "execution_count": null,
      "outputs": [
        {
          "output_type": "execute_result",
          "data": {
            "text/plain": [
              "<pandas.io.formats.style.Styler at 0x7f416d2e3ed0>"
            ],
            "text/html": [
              "<style type=\"text/css\">\n",
              "</style>\n",
              "<table id=\"T_d31ff_\" class=\"dataframe\">\n",
              "  <thead>\n",
              "    <tr>\n",
              "      <th class=\"col_heading level0 col0\" >Idade</th>\n",
              "      <th class=\"col_heading level0 col1\" >Estadiamento</th>\n",
              "      <th class=\"col_heading level0 col2\" >TamanhoTumor</th>\n",
              "      <th class=\"col_heading level0 col3\" >Estrogenio</th>\n",
              "      <th class=\"col_heading level0 col4\" >Progesterona</th>\n",
              "    </tr>\n",
              "  </thead>\n",
              "  <tbody>\n",
              "    <tr>\n",
              "      <td id=\"T_d31ff_row0_col0\" class=\"data row0 col0\" >2</td>\n",
              "      <td id=\"T_d31ff_row0_col1\" class=\"data row0 col1\" >1</td>\n",
              "      <td id=\"T_d31ff_row0_col2\" class=\"data row0 col2\" >1</td>\n",
              "      <td id=\"T_d31ff_row0_col3\" class=\"data row0 col3\" >1</td>\n",
              "      <td id=\"T_d31ff_row0_col4\" class=\"data row0 col4\" >1</td>\n",
              "    </tr>\n",
              "    <tr>\n",
              "      <td id=\"T_d31ff_row1_col0\" class=\"data row1 col0\" >2</td>\n",
              "      <td id=\"T_d31ff_row1_col1\" class=\"data row1 col1\" >1</td>\n",
              "      <td id=\"T_d31ff_row1_col2\" class=\"data row1 col2\" >1</td>\n",
              "      <td id=\"T_d31ff_row1_col3\" class=\"data row1 col3\" >1</td>\n",
              "      <td id=\"T_d31ff_row1_col4\" class=\"data row1 col4\" >1</td>\n",
              "    </tr>\n",
              "    <tr>\n",
              "      <td id=\"T_d31ff_row2_col0\" class=\"data row2 col0\" >1</td>\n",
              "      <td id=\"T_d31ff_row2_col1\" class=\"data row2 col1\" >2</td>\n",
              "      <td id=\"T_d31ff_row2_col2\" class=\"data row2 col2\" >1</td>\n",
              "      <td id=\"T_d31ff_row2_col3\" class=\"data row2 col3\" >1</td>\n",
              "      <td id=\"T_d31ff_row2_col4\" class=\"data row2 col4\" >1</td>\n",
              "    </tr>\n",
              "    <tr>\n",
              "      <td id=\"T_d31ff_row3_col0\" class=\"data row3 col0\" >2</td>\n",
              "      <td id=\"T_d31ff_row3_col1\" class=\"data row3 col1\" >2</td>\n",
              "      <td id=\"T_d31ff_row3_col2\" class=\"data row3 col2\" >2</td>\n",
              "      <td id=\"T_d31ff_row3_col3\" class=\"data row3 col3\" >1</td>\n",
              "      <td id=\"T_d31ff_row3_col4\" class=\"data row3 col4\" >1</td>\n",
              "    </tr>\n",
              "    <tr>\n",
              "      <td id=\"T_d31ff_row4_col0\" class=\"data row4 col0\" >1</td>\n",
              "      <td id=\"T_d31ff_row4_col1\" class=\"data row4 col1\" >1</td>\n",
              "      <td id=\"T_d31ff_row4_col2\" class=\"data row4 col2\" >1</td>\n",
              "      <td id=\"T_d31ff_row4_col3\" class=\"data row4 col3\" >1</td>\n",
              "      <td id=\"T_d31ff_row4_col4\" class=\"data row4 col4\" >1</td>\n",
              "    </tr>\n",
              "  </tbody>\n",
              "</table>\n"
            ]
          },
          "metadata": {},
          "execution_count": 10
        }
      ]
    },
    {
      "cell_type": "code",
      "source": [
        "X.shape"
      ],
      "metadata": {
        "colab": {
          "base_uri": "https://localhost:8080/"
        },
        "id": "lQsRYaTmJkqq",
        "outputId": "d2afd006-a020-4896-efc7-76f31d57d0ba"
      },
      "execution_count": null,
      "outputs": [
        {
          "output_type": "execute_result",
          "data": {
            "text/plain": [
              "(4024, 5)"
            ]
          },
          "metadata": {},
          "execution_count": 11
        }
      ]
    },
    {
      "cell_type": "code",
      "source": [
        "y.head().style.hide_index()"
      ],
      "metadata": {
        "colab": {
          "base_uri": "https://localhost:8080/",
          "height": 206
        },
        "id": "QSJcPjPjJZE-",
        "outputId": "3dd898a1-fade-458f-d915-9ef7861719e5"
      },
      "execution_count": null,
      "outputs": [
        {
          "output_type": "execute_result",
          "data": {
            "text/plain": [
              "<pandas.io.formats.style.Styler at 0x7f416cd9d2d0>"
            ],
            "text/html": [
              "<style type=\"text/css\">\n",
              "</style>\n",
              "<table id=\"T_4cf38_\" class=\"dataframe\">\n",
              "  <thead>\n",
              "    <tr>\n",
              "      <th class=\"col_heading level0 col0\" >SurvivalMonths</th>\n",
              "      <th class=\"col_heading level0 col1\" >Status</th>\n",
              "    </tr>\n",
              "  </thead>\n",
              "  <tbody>\n",
              "    <tr>\n",
              "      <td id=\"T_4cf38_row0_col0\" class=\"data row0 col0\" >1</td>\n",
              "      <td id=\"T_4cf38_row0_col1\" class=\"data row0 col1\" >0</td>\n",
              "    </tr>\n",
              "    <tr>\n",
              "      <td id=\"T_4cf38_row1_col0\" class=\"data row1 col0\" >2</td>\n",
              "      <td id=\"T_4cf38_row1_col1\" class=\"data row1 col1\" >0</td>\n",
              "    </tr>\n",
              "    <tr>\n",
              "      <td id=\"T_4cf38_row2_col0\" class=\"data row2 col0\" >2</td>\n",
              "      <td id=\"T_4cf38_row2_col1\" class=\"data row2 col1\" >1</td>\n",
              "    </tr>\n",
              "    <tr>\n",
              "      <td id=\"T_4cf38_row3_col0\" class=\"data row3 col0\" >2</td>\n",
              "      <td id=\"T_4cf38_row3_col1\" class=\"data row3 col1\" >1</td>\n",
              "    </tr>\n",
              "    <tr>\n",
              "      <td id=\"T_4cf38_row4_col0\" class=\"data row4 col0\" >3</td>\n",
              "      <td id=\"T_4cf38_row4_col1\" class=\"data row4 col1\" >1</td>\n",
              "    </tr>\n",
              "  </tbody>\n",
              "</table>\n"
            ]
          },
          "metadata": {},
          "execution_count": 12
        }
      ]
    },
    {
      "cell_type": "code",
      "source": [
        "y.shape"
      ],
      "metadata": {
        "colab": {
          "base_uri": "https://localhost:8080/"
        },
        "id": "SsTUuymAJaxN",
        "outputId": "4783edce-b524-4b80-ac5d-f662d5be1a3c"
      },
      "execution_count": null,
      "outputs": [
        {
          "output_type": "execute_result",
          "data": {
            "text/plain": [
              "(4024, 2)"
            ]
          },
          "metadata": {},
          "execution_count": 13
        }
      ]
    },
    {
      "cell_type": "markdown",
      "source": [
        "Para o modelo RSF a primeira coluna precisa ser o evento e a segunda o tempo até o evento. Então, vou reorganizar o y."
      ],
      "metadata": {
        "id": "KYx-hAk7K1PA"
      }
    },
    {
      "cell_type": "code",
      "source": [
        "y = y[['Status', 'SurvivalMonths']]\n",
        "y.head().style.hide_index()"
      ],
      "metadata": {
        "colab": {
          "base_uri": "https://localhost:8080/",
          "height": 206
        },
        "id": "TNu_A6-zK-Pq",
        "outputId": "00175af4-403b-488e-e128-565e58ae830f"
      },
      "execution_count": null,
      "outputs": [
        {
          "output_type": "execute_result",
          "data": {
            "text/plain": [
              "<pandas.io.formats.style.Styler at 0x7f416cd8fd10>"
            ],
            "text/html": [
              "<style type=\"text/css\">\n",
              "</style>\n",
              "<table id=\"T_b87ed_\" class=\"dataframe\">\n",
              "  <thead>\n",
              "    <tr>\n",
              "      <th class=\"col_heading level0 col0\" >Status</th>\n",
              "      <th class=\"col_heading level0 col1\" >SurvivalMonths</th>\n",
              "    </tr>\n",
              "  </thead>\n",
              "  <tbody>\n",
              "    <tr>\n",
              "      <td id=\"T_b87ed_row0_col0\" class=\"data row0 col0\" >0</td>\n",
              "      <td id=\"T_b87ed_row0_col1\" class=\"data row0 col1\" >1</td>\n",
              "    </tr>\n",
              "    <tr>\n",
              "      <td id=\"T_b87ed_row1_col0\" class=\"data row1 col0\" >0</td>\n",
              "      <td id=\"T_b87ed_row1_col1\" class=\"data row1 col1\" >2</td>\n",
              "    </tr>\n",
              "    <tr>\n",
              "      <td id=\"T_b87ed_row2_col0\" class=\"data row2 col0\" >1</td>\n",
              "      <td id=\"T_b87ed_row2_col1\" class=\"data row2 col1\" >2</td>\n",
              "    </tr>\n",
              "    <tr>\n",
              "      <td id=\"T_b87ed_row3_col0\" class=\"data row3 col0\" >1</td>\n",
              "      <td id=\"T_b87ed_row3_col1\" class=\"data row3 col1\" >2</td>\n",
              "    </tr>\n",
              "    <tr>\n",
              "      <td id=\"T_b87ed_row4_col0\" class=\"data row4 col0\" >1</td>\n",
              "      <td id=\"T_b87ed_row4_col1\" class=\"data row4 col1\" >3</td>\n",
              "    </tr>\n",
              "  </tbody>\n",
              "</table>\n"
            ]
          },
          "metadata": {},
          "execution_count": 14
        }
      ]
    },
    {
      "cell_type": "markdown",
      "source": [
        "Precisamos transformar o y em um array para ficar no formato exigido pelo modelo de RSF"
      ],
      "metadata": {
        "id": "MghpVYQVMETx"
      }
    },
    {
      "cell_type": "code",
      "source": [
        "# df to array\n",
        "y = y.to_numpy()\n",
        "\n",
        "#List of tuples\n",
        "aux = [(e1,e2) for e1,e2 in y]\n",
        "\n",
        "#Structured array\n",
        "y_array = np.array(aux, dtype=[('Status', '?'), ('SurvivalMonths', '<f8')])\n",
        "y_array"
      ],
      "metadata": {
        "colab": {
          "base_uri": "https://localhost:8080/"
        },
        "id": "O_sKhyTrMnaX",
        "outputId": "3bb56d02-0eb3-4f4e-e432-fdf4e3cf080b"
      },
      "execution_count": null,
      "outputs": [
        {
          "output_type": "execute_result",
          "data": {
            "text/plain": [
              "array([(False,   1.), (False,   2.), ( True,   2.), ..., (False, 107.),\n",
              "       (False, 107.), (False, 107.)],\n",
              "      dtype=[('Status', '?'), ('SurvivalMonths', '<f8')])"
            ]
          },
          "metadata": {},
          "execution_count": 15
        }
      ]
    },
    {
      "cell_type": "markdown",
      "source": [
        "## Treino"
      ],
      "metadata": {
        "id": "xe7oqJpWH6LQ"
      }
    },
    {
      "cell_type": "markdown",
      "source": [
        "Separando 30% para teste e 70% para treino"
      ],
      "metadata": {
        "id": "dqe1ZgooIC--"
      }
    },
    {
      "cell_type": "code",
      "source": [
        "#random state para garantir que sempre vamos obter o mesmo resultado\n",
        "random_state = 20\n",
        "\n",
        "X_train, X_test, y_train, y_test = train_test_split(X, y_array, test_size=0.30, random_state=random_state)"
      ],
      "metadata": {
        "id": "poVBsIBPB5Ou"
      },
      "execution_count": null,
      "outputs": []
    },
    {
      "cell_type": "markdown",
      "source": [
        "### Com os dados do R pré-definidos pela "
      ],
      "metadata": {
        "id": "a3gSAs_UVLCf"
      }
    },
    {
      "cell_type": "code",
      "source": [
        "rsf = RandomSurvivalForest(n_estimators=100,\n",
        "                           min_samples_split=10,\n",
        "                           min_samples_leaf=15,\n",
        "                           max_features=\"sqrt\",\n",
        "                           n_jobs=-1,\n",
        "                           random_state=random_state)"
      ],
      "metadata": {
        "id": "PgkwjlgJHsRU"
      },
      "execution_count": null,
      "outputs": []
    },
    {
      "cell_type": "code",
      "source": [
        "rsf.fit(X_train, y_train)"
      ],
      "metadata": {
        "colab": {
          "base_uri": "https://localhost:8080/"
        },
        "id": "cDYv1u2tOiEn",
        "outputId": "a69aad1b-1a0b-4bf6-a49f-db41eaaa21e7"
      },
      "execution_count": null,
      "outputs": [
        {
          "output_type": "execute_result",
          "data": {
            "text/plain": [
              "RandomSurvivalForest(max_features='sqrt', min_samples_leaf=15,\n",
              "                     min_samples_split=10, n_jobs=-1, random_state=20)"
            ]
          },
          "metadata": {},
          "execution_count": 18
        }
      ]
    },
    {
      "cell_type": "code",
      "source": [
        "rsf.score(X_test, y_test)"
      ],
      "metadata": {
        "colab": {
          "base_uri": "https://localhost:8080/"
        },
        "id": "92e63UNxHsz-",
        "outputId": "f480ff7f-3fdd-4340-b05b-8cdb26f15824"
      },
      "execution_count": null,
      "outputs": [
        {
          "output_type": "execute_result",
          "data": {
            "text/plain": [
              "0.6985328989422026"
            ]
          },
          "metadata": {},
          "execution_count": 19
        }
      ]
    },
    {
      "cell_type": "markdown",
      "source": [
        "### Achando os melhores parâmetros com RandomizedSearchCV"
      ],
      "metadata": {
        "id": "UdZyMK-ncZo_"
      }
    },
    {
      "cell_type": "code",
      "source": [
        "rsf_search = RandomSurvivalForest(max_features=\"sqrt\",\n",
        "                           n_jobs=-1,\n",
        "                           random_state=random_state)"
      ],
      "metadata": {
        "id": "1UxvScY-aFtz"
      },
      "execution_count": null,
      "outputs": []
    },
    {
      "cell_type": "code",
      "source": [
        "params = {\n",
        "    'n_estimators': [100, 500, 1000],\n",
        "    'max_depth': [5, 10, 15, 50],\n",
        "    'min_samples_leaf': [5, 10, 15, 30],\n",
        "    'min_samples_split': [5, 10, 15, 30]\n",
        "}"
      ],
      "metadata": {
        "id": "rLVb4TMlcgVu"
      },
      "execution_count": null,
      "outputs": []
    },
    {
      "cell_type": "code",
      "source": [
        "rsf_random_search = RandomizedSearchCV(rsf_search, param_distributions=params, n_iter=50, n_jobs=-1, cv=3, random_state=0)\n",
        "search = rsf_random_search.fit(X_train, y_train)"
      ],
      "metadata": {
        "id": "mkuXOJT6hhT0"
      },
      "execution_count": null,
      "outputs": []
    },
    {
      "cell_type": "code",
      "source": [
        "print(\n",
        "    f\"The c-index of random survival forest using a {search.__class__.__name__} is \"\n",
        "    f\"{search.score(X_test, y_test):.3f}\")\n",
        "print(\n",
        "    f\"The best set of parameters is: {search.best_params_}\"\n",
        ")"
      ],
      "metadata": {
        "colab": {
          "base_uri": "https://localhost:8080/"
        },
        "id": "bs-uEr_lhi7n",
        "outputId": "f942dfd4-235d-4567-db87-f6abf7e897f5"
      },
      "execution_count": null,
      "outputs": [
        {
          "output_type": "stream",
          "name": "stdout",
          "text": [
            "The c-index of random survival forest using a RandomizedSearchCV is 0.700\n",
            "The best set of parameters is: {'n_estimators': 100, 'min_samples_split': 15, 'min_samples_leaf': 30, 'max_depth': 15}\n"
          ]
        }
      ]
    },
    {
      "cell_type": "code",
      "source": [
        "n_estimators = search.best_params_['n_estimators']\n",
        "max_depth = search.best_params_['max_depth']\n",
        "min_samples_leaf = search.best_params_['min_samples_leaf']\n",
        "min_samples_split = search.best_params_['min_samples_split']"
      ],
      "metadata": {
        "id": "7lKm_3VHZU8k"
      },
      "execution_count": null,
      "outputs": []
    },
    {
      "cell_type": "code",
      "source": [
        "rsf_best = RandomSurvivalForest(random_state=42, n_estimators=n_estimators, max_depth=max_depth, min_samples_leaf=min_samples_leaf, min_samples_split=min_samples_split)\n",
        "rsf_best.fit(X_train, y_train)\n",
        "ci_rsf = concordance_index_censored(y_test[\"Status\"], y_test[\"SurvivalMonths\"], rsf_best.predict(X_test))\n",
        "print(f'The c-index of Random Survival Forest is given by {ci_rsf[0]:.3f}')"
      ],
      "metadata": {
        "colab": {
          "base_uri": "https://localhost:8080/"
        },
        "id": "5cwVuWwHZaM8",
        "outputId": "403b7cf6-76ab-4850-84d3-989a941bb9f0"
      },
      "execution_count": null,
      "outputs": [
        {
          "output_type": "stream",
          "name": "stdout",
          "text": [
            "The c-index of Random Survival Forest is given by 0.700\n"
          ]
        }
      ]
    },
    {
      "cell_type": "markdown",
      "source": [
        "## Permutation-based Feature Importance\n",
        "The implementation is based on scikit-learn's Random Forest implementation and inherits many features, such as building trees in parallel. What's currently missing is feature importances via the feature_importance_ attribute. This is due to the way scikit-learn's implementation computes importances. It relies on a measure of impurity for each child node, and defines importance as the amount of decrease in impurity due to a split. For traditional regression, impurity would be measured by the variance, but for survival analysis there is no per-node impurity measure due to censoring. Instead, one could use the magnitude of the log-rank test statistic as an importance measure, but scikit-learn's implementation doesn't seem to allow this.\n",
        "\n",
        "Fortunately, this is not a big concern though, as scikit-learn's definition of feature importance is non-standard and differs from what Leo Breiman proposed in the original Random Forest paper. Instead, we can use permutation to estimate feature importance, which is preferred over scikit-learn's definition. This is implemented in the permutation_importance function of scikit-learn, which is fully compatible with scikit-survival.\n",
        "\n",
        " \n",
        "\n"
      ],
      "metadata": {
        "id": "OjnEsr2ebksw"
      }
    },
    {
      "cell_type": "code",
      "source": [
        "from sklearn.inspection import permutation_importance\n",
        "\n",
        "feature_importances = permutation_importance(\n",
        "    rsf_best, X_test, y_test, n_repeats=15, random_state=random_state\n",
        ")"
      ],
      "metadata": {
        "id": "KypuEbwibNjT"
      },
      "execution_count": null,
      "outputs": []
    },
    {
      "cell_type": "code",
      "source": [
        "feature_importances = pd.DataFrame(\n",
        "    {k: feature_importances[k] for k in (\"importances_mean\", \"importances_std\",)},\n",
        "    index=X_test.columns\n",
        ").sort_values(by=\"importances_mean\", ascending=False)\n",
        "feature_importances"
      ],
      "metadata": {
        "colab": {
          "base_uri": "https://localhost:8080/",
          "height": 206
        },
        "id": "w41IJVPobwZm",
        "outputId": "b7c28140-8d9d-4a8d-d46c-653ee4cbb174"
      },
      "execution_count": null,
      "outputs": [
        {
          "output_type": "execute_result",
          "data": {
            "text/plain": [
              "              importances_mean  importances_std\n",
              "Estadiamento          0.074459         0.010838\n",
              "Progesterona          0.023787         0.008931\n",
              "Estrogenio            0.023373         0.004287\n",
              "Idade                 0.006052         0.004780\n",
              "TamanhoTumor          0.004656         0.002068"
            ],
            "text/html": [
              "\n",
              "  <div id=\"df-e332e63c-e345-442e-a441-d1d85d7423aa\">\n",
              "    <div class=\"colab-df-container\">\n",
              "      <div>\n",
              "<style scoped>\n",
              "    .dataframe tbody tr th:only-of-type {\n",
              "        vertical-align: middle;\n",
              "    }\n",
              "\n",
              "    .dataframe tbody tr th {\n",
              "        vertical-align: top;\n",
              "    }\n",
              "\n",
              "    .dataframe thead th {\n",
              "        text-align: right;\n",
              "    }\n",
              "</style>\n",
              "<table border=\"1\" class=\"dataframe\">\n",
              "  <thead>\n",
              "    <tr style=\"text-align: right;\">\n",
              "      <th></th>\n",
              "      <th>importances_mean</th>\n",
              "      <th>importances_std</th>\n",
              "    </tr>\n",
              "  </thead>\n",
              "  <tbody>\n",
              "    <tr>\n",
              "      <th>Estadiamento</th>\n",
              "      <td>0.074459</td>\n",
              "      <td>0.010838</td>\n",
              "    </tr>\n",
              "    <tr>\n",
              "      <th>Progesterona</th>\n",
              "      <td>0.023787</td>\n",
              "      <td>0.008931</td>\n",
              "    </tr>\n",
              "    <tr>\n",
              "      <th>Estrogenio</th>\n",
              "      <td>0.023373</td>\n",
              "      <td>0.004287</td>\n",
              "    </tr>\n",
              "    <tr>\n",
              "      <th>Idade</th>\n",
              "      <td>0.006052</td>\n",
              "      <td>0.004780</td>\n",
              "    </tr>\n",
              "    <tr>\n",
              "      <th>TamanhoTumor</th>\n",
              "      <td>0.004656</td>\n",
              "      <td>0.002068</td>\n",
              "    </tr>\n",
              "  </tbody>\n",
              "</table>\n",
              "</div>\n",
              "      <button class=\"colab-df-convert\" onclick=\"convertToInteractive('df-e332e63c-e345-442e-a441-d1d85d7423aa')\"\n",
              "              title=\"Convert this dataframe to an interactive table.\"\n",
              "              style=\"display:none;\">\n",
              "        \n",
              "  <svg xmlns=\"http://www.w3.org/2000/svg\" height=\"24px\"viewBox=\"0 0 24 24\"\n",
              "       width=\"24px\">\n",
              "    <path d=\"M0 0h24v24H0V0z\" fill=\"none\"/>\n",
              "    <path d=\"M18.56 5.44l.94 2.06.94-2.06 2.06-.94-2.06-.94-.94-2.06-.94 2.06-2.06.94zm-11 1L8.5 8.5l.94-2.06 2.06-.94-2.06-.94L8.5 2.5l-.94 2.06-2.06.94zm10 10l.94 2.06.94-2.06 2.06-.94-2.06-.94-.94-2.06-.94 2.06-2.06.94z\"/><path d=\"M17.41 7.96l-1.37-1.37c-.4-.4-.92-.59-1.43-.59-.52 0-1.04.2-1.43.59L10.3 9.45l-7.72 7.72c-.78.78-.78 2.05 0 2.83L4 21.41c.39.39.9.59 1.41.59.51 0 1.02-.2 1.41-.59l7.78-7.78 2.81-2.81c.8-.78.8-2.07 0-2.86zM5.41 20L4 18.59l7.72-7.72 1.47 1.35L5.41 20z\"/>\n",
              "  </svg>\n",
              "      </button>\n",
              "      \n",
              "  <style>\n",
              "    .colab-df-container {\n",
              "      display:flex;\n",
              "      flex-wrap:wrap;\n",
              "      gap: 12px;\n",
              "    }\n",
              "\n",
              "    .colab-df-convert {\n",
              "      background-color: #E8F0FE;\n",
              "      border: none;\n",
              "      border-radius: 50%;\n",
              "      cursor: pointer;\n",
              "      display: none;\n",
              "      fill: #1967D2;\n",
              "      height: 32px;\n",
              "      padding: 0 0 0 0;\n",
              "      width: 32px;\n",
              "    }\n",
              "\n",
              "    .colab-df-convert:hover {\n",
              "      background-color: #E2EBFA;\n",
              "      box-shadow: 0px 1px 2px rgba(60, 64, 67, 0.3), 0px 1px 3px 1px rgba(60, 64, 67, 0.15);\n",
              "      fill: #174EA6;\n",
              "    }\n",
              "\n",
              "    [theme=dark] .colab-df-convert {\n",
              "      background-color: #3B4455;\n",
              "      fill: #D2E3FC;\n",
              "    }\n",
              "\n",
              "    [theme=dark] .colab-df-convert:hover {\n",
              "      background-color: #434B5C;\n",
              "      box-shadow: 0px 1px 3px 1px rgba(0, 0, 0, 0.15);\n",
              "      filter: drop-shadow(0px 1px 2px rgba(0, 0, 0, 0.3));\n",
              "      fill: #FFFFFF;\n",
              "    }\n",
              "  </style>\n",
              "\n",
              "      <script>\n",
              "        const buttonEl =\n",
              "          document.querySelector('#df-e332e63c-e345-442e-a441-d1d85d7423aa button.colab-df-convert');\n",
              "        buttonEl.style.display =\n",
              "          google.colab.kernel.accessAllowed ? 'block' : 'none';\n",
              "\n",
              "        async function convertToInteractive(key) {\n",
              "          const element = document.querySelector('#df-e332e63c-e345-442e-a441-d1d85d7423aa');\n",
              "          const dataTable =\n",
              "            await google.colab.kernel.invokeFunction('convertToInteractive',\n",
              "                                                     [key], {});\n",
              "          if (!dataTable) return;\n",
              "\n",
              "          const docLinkHtml = 'Like what you see? Visit the ' +\n",
              "            '<a target=\"_blank\" href=https://colab.research.google.com/notebooks/data_table.ipynb>data table notebook</a>'\n",
              "            + ' to learn more about interactive tables.';\n",
              "          element.innerHTML = '';\n",
              "          dataTable['output_type'] = 'display_data';\n",
              "          await google.colab.output.renderOutput(dataTable, element);\n",
              "          const docLink = document.createElement('div');\n",
              "          docLink.innerHTML = docLinkHtml;\n",
              "          element.appendChild(docLink);\n",
              "        }\n",
              "      </script>\n",
              "    </div>\n",
              "  </div>\n",
              "  "
            ]
          },
          "metadata": {},
          "execution_count": 27
        }
      ]
    },
    {
      "cell_type": "code",
      "source": [
        "variaveis = ['Estadiamento', 'Progesterona', 'Estrogenio', 'Idade', 'TamanhoTumor']\n",
        "impt_mean = feature_importances['importances_mean']*100\n",
        "std = feature_importances['importances_std']*100\n",
        "\n",
        "plt.barh(variaveis, impt_mean, xerr = std)\n",
        "plt.xlabel('Importance Mean')\n",
        "plt.title('Feature importance')"
      ],
      "metadata": {
        "colab": {
          "base_uri": "https://localhost:8080/",
          "height": 312
        },
        "id": "1fn2QpU8cHhP",
        "outputId": "438e6550-d62e-4cbf-d1dc-76e57f8a73dc"
      },
      "execution_count": null,
      "outputs": [
        {
          "output_type": "execute_result",
          "data": {
            "text/plain": [
              "Text(0.5, 1.0, 'Feature importance')"
            ]
          },
          "metadata": {},
          "execution_count": 29
        },
        {
          "output_type": "display_data",
          "data": {
            "text/plain": [
              "<Figure size 432x288 with 1 Axes>"
            ],
            "image/png": "[encoded data removed]"
          },
          "metadata": {
            "needs_background": "light"
          }
        }
      ]
    },
    {
      "cell_type": "markdown",
      "source": [
        "## Predição"
      ],
      "metadata": {
        "id": "w0SHOLNuH8gZ"
      }
    },
    {
      "cell_type": "markdown",
      "source": [
        "Testando e analisando em alguns casos da base conforme as variáveis mais importantes"
      ],
      "metadata": {
        "id": "27MlmIqOPKHC"
      }
    },
    {
      "cell_type": "code",
      "source": [
        "X_test_sorted = X_test.sort_values(by=[\"Estadiamento\", \"Progesterona\", \"Estrogenio\"])\n",
        "X_test_sel = X_test_sorted.head(1)\n",
        "\n",
        "X_test_sel"
      ],
      "metadata": {
        "colab": {
          "base_uri": "https://localhost:8080/",
          "height": 81
        },
        "id": "-_JZoKVAPJg4",
        "outputId": "51abefa6-4798-4c58-e6ba-f8b51c9e1a3c"
      },
      "execution_count": null,
      "outputs": [
        {
          "output_type": "execute_result",
          "data": {
            "text/plain": [
              "      Idade  Estadiamento  TamanhoTumor  Estrogenio  Progesterona\n",
              "2393      1             1             2           1             1"
            ],
            "text/html": [
              "\n",
              "  <div id=\"df-5b001975-4574-4cda-800d-dba7a28b4499\">\n",
              "    <div class=\"colab-df-container\">\n",
              "      <div>\n",
              "<style scoped>\n",
              "    .dataframe tbody tr th:only-of-type {\n",
              "        vertical-align: middle;\n",
              "    }\n",
              "\n",
              "    .dataframe tbody tr th {\n",
              "        vertical-align: top;\n",
              "    }\n",
              "\n",
              "    .dataframe thead th {\n",
              "        text-align: right;\n",
              "    }\n",
              "</style>\n",
              "<table border=\"1\" class=\"dataframe\">\n",
              "  <thead>\n",
              "    <tr style=\"text-align: right;\">\n",
              "      <th></th>\n",
              "      <th>Idade</th>\n",
              "      <th>Estadiamento</th>\n",
              "      <th>TamanhoTumor</th>\n",
              "      <th>Estrogenio</th>\n",
              "      <th>Progesterona</th>\n",
              "    </tr>\n",
              "  </thead>\n",
              "  <tbody>\n",
              "    <tr>\n",
              "      <th>2393</th>\n",
              "      <td>1</td>\n",
              "      <td>1</td>\n",
              "      <td>2</td>\n",
              "      <td>1</td>\n",
              "      <td>1</td>\n",
              "    </tr>\n",
              "  </tbody>\n",
              "</table>\n",
              "</div>\n",
              "      <button class=\"colab-df-convert\" onclick=\"convertToInteractive('df-5b001975-4574-4cda-800d-dba7a28b4499')\"\n",
              "              title=\"Convert this dataframe to an interactive table.\"\n",
              "              style=\"display:none;\">\n",
              "        \n",
              "  <svg xmlns=\"http://www.w3.org/2000/svg\" height=\"24px\"viewBox=\"0 0 24 24\"\n",
              "       width=\"24px\">\n",
              "    <path d=\"M0 0h24v24H0V0z\" fill=\"none\"/>\n",
              "    <path d=\"M18.56 5.44l.94 2.06.94-2.06 2.06-.94-2.06-.94-.94-2.06-.94 2.06-2.06.94zm-11 1L8.5 8.5l.94-2.06 2.06-.94-2.06-.94L8.5 2.5l-.94 2.06-2.06.94zm10 10l.94 2.06.94-2.06 2.06-.94-2.06-.94-.94-2.06-.94 2.06-2.06.94z\"/><path d=\"M17.41 7.96l-1.37-1.37c-.4-.4-.92-.59-1.43-.59-.52 0-1.04.2-1.43.59L10.3 9.45l-7.72 7.72c-.78.78-.78 2.05 0 2.83L4 21.41c.39.39.9.59 1.41.59.51 0 1.02-.2 1.41-.59l7.78-7.78 2.81-2.81c.8-.78.8-2.07 0-2.86zM5.41 20L4 18.59l7.72-7.72 1.47 1.35L5.41 20z\"/>\n",
              "  </svg>\n",
              "      </button>\n",
              "      \n",
              "  <style>\n",
              "    .colab-df-container {\n",
              "      display:flex;\n",
              "      flex-wrap:wrap;\n",
              "      gap: 12px;\n",
              "    }\n",
              "\n",
              "    .colab-df-convert {\n",
              "      background-color: #E8F0FE;\n",
              "      border: none;\n",
              "      border-radius: 50%;\n",
              "      cursor: pointer;\n",
              "      display: none;\n",
              "      fill: #1967D2;\n",
              "      height: 32px;\n",
              "      padding: 0 0 0 0;\n",
              "      width: 32px;\n",
              "    }\n",
              "\n",
              "    .colab-df-convert:hover {\n",
              "      background-color: #E2EBFA;\n",
              "      box-shadow: 0px 1px 2px rgba(60, 64, 67, 0.3), 0px 1px 3px 1px rgba(60, 64, 67, 0.15);\n",
              "      fill: #174EA6;\n",
              "    }\n",
              "\n",
              "    [theme=dark] .colab-df-convert {\n",
              "      background-color: #3B4455;\n",
              "      fill: #D2E3FC;\n",
              "    }\n",
              "\n",
              "    [theme=dark] .colab-df-convert:hover {\n",
              "      background-color: #434B5C;\n",
              "      box-shadow: 0px 1px 3px 1px rgba(0, 0, 0, 0.15);\n",
              "      filter: drop-shadow(0px 1px 2px rgba(0, 0, 0, 0.3));\n",
              "      fill: #FFFFFF;\n",
              "    }\n",
              "  </style>\n",
              "\n",
              "      <script>\n",
              "        const buttonEl =\n",
              "          document.querySelector('#df-5b001975-4574-4cda-800d-dba7a28b4499 button.colab-df-convert');\n",
              "        buttonEl.style.display =\n",
              "          google.colab.kernel.accessAllowed ? 'block' : 'none';\n",
              "\n",
              "        async function convertToInteractive(key) {\n",
              "          const element = document.querySelector('#df-5b001975-4574-4cda-800d-dba7a28b4499');\n",
              "          const dataTable =\n",
              "            await google.colab.kernel.invokeFunction('convertToInteractive',\n",
              "                                                     [key], {});\n",
              "          if (!dataTable) return;\n",
              "\n",
              "          const docLinkHtml = 'Like what you see? Visit the ' +\n",
              "            '<a target=\"_blank\" href=https://colab.research.google.com/notebooks/data_table.ipynb>data table notebook</a>'\n",
              "            + ' to learn more about interactive tables.';\n",
              "          element.innerHTML = '';\n",
              "          dataTable['output_type'] = 'display_data';\n",
              "          await google.colab.output.renderOutput(dataTable, element);\n",
              "          const docLink = document.createElement('div');\n",
              "          docLink.innerHTML = docLinkHtml;\n",
              "          element.appendChild(docLink);\n",
              "        }\n",
              "      </script>\n",
              "    </div>\n",
              "  </div>\n",
              "  "
            ]
          },
          "metadata": {},
          "execution_count": 40
        }
      ]
    },
    {
      "cell_type": "code",
      "source": [
        "pd.Series(rsf_best.predict(X_test_sel)).sort_values()"
      ],
      "metadata": {
        "colab": {
          "base_uri": "https://localhost:8080/"
        },
        "id": "rqrNrMKTH8Qv",
        "outputId": "70eba724-6e86-40ce-a659-24a874657327"
      },
      "execution_count": null,
      "outputs": [
        {
          "output_type": "execute_result",
          "data": {
            "text/plain": [
              "0    11.079609\n",
              "dtype: float64"
            ]
          },
          "metadata": {},
          "execution_count": 41
        }
      ]
    },
    {
      "cell_type": "markdown",
      "source": [
        "Podemos ver um risco maior para os 3 últimos casos."
      ],
      "metadata": {
        "id": "7nuRKvvbPcrR"
      }
    },
    {
      "cell_type": "markdown",
      "source": [
        "Probabilidade de sobrevivência"
      ],
      "metadata": {
        "id": "F9JInCarajnq"
      }
    },
    {
      "cell_type": "code",
      "source": [
        "surv = rsf_best.predict_survival_function(X_test_sel, return_array=True)\n",
        "\n",
        "for i, s in enumerate(surv):\n",
        "    plt.step(rsf_best.event_times_, s, where=\"post\", label=str(i))\n",
        "plt.ylabel(\"Survival probability\")\n",
        "plt.xlabel(\"Time in months\")\n",
        "plt.legend()\n",
        "plt.grid(True)"
      ],
      "metadata": {
        "colab": {
          "base_uri": "https://localhost:8080/",
          "height": 279
        },
        "id": "_8Wk-kJnIAIC",
        "outputId": "e11aaf5c-3893-4c22-f81b-16285b1c6e80"
      },
      "execution_count": null,
      "outputs": [
        {
          "output_type": "display_data",
          "data": {
            "text/plain": [
              "<Figure size 432x288 with 1 Axes>"
            ],
            "image/png": "[encoded data removed]"
          },
          "metadata": {
            "needs_background": "light"
          }
        }
      ]
    },
    {
      "cell_type": "markdown",
      "source": [
        "Predição da função de Hazard acumulada"
      ],
      "metadata": {
        "id": "sm5QvujsasAI"
      }
    },
    {
      "cell_type": "code",
      "source": [
        "surv = rsf_best.predict_cumulative_hazard_function(X_test_sel, return_array=True)\n",
        "\n",
        "for i, s in enumerate(surv):\n",
        "    plt.step(rsf_best.event_times_, s, where=\"post\", label=str(i))\n",
        "plt.ylabel(\"Cumulative hazard\")\n",
        "plt.xlabel(\"Time in days\")\n",
        "plt.legend()\n",
        "plt.grid(True)"
      ],
      "metadata": {
        "colab": {
          "base_uri": "https://localhost:8080/",
          "height": 279
        },
        "id": "esQoDihAO428",
        "outputId": "19c26539-ee73-46bc-9c1a-22667411583f"
      },
      "execution_count": null,
      "outputs": [
        {
          "output_type": "display_data",
          "data": {
            "text/plain": [
              "<Figure size 432x288 with 1 Axes>"
            ],
            "image/png": "[encoded data removed]"
          },
          "metadata": {
            "needs_background": "light"
          }
        }
      ]
    },
    {
      "cell_type": "markdown",
      "source": [
        "## Salvando o modelo pra usar no app"
      ],
      "metadata": {
        "id": "-UED8oVdMofK"
      }
    },
    {
      "cell_type": "code",
      "source": [
        "filename = 'rsf_2022.pkl'\n",
        "pickle.dump(rsf_best, open(filename, 'wb'))"
      ],
      "metadata": {
        "id": "afyhhZGyfLjY"
      },
      "execution_count": null,
      "outputs": []
    },
    {
      "cell_type": "code",
      "source": [
        "filename = 'rsf_2022.sav'\n",
        "joblib.dump(rsf_best, filename)"
      ],
      "metadata": {
        "colab": {
          "base_uri": "https://localhost:8080/"
        },
        "id": "v7vtiWblMtgT",
        "outputId": "ce2b7f15-ca05-47b1-9113-70de27b1cc4c"
      },
      "execution_count": null,
      "outputs": [
        {
          "output_type": "execute_result",
          "data": {
            "text/plain": [
              "['rsf_2022.sav']"
            ]
          },
          "metadata": {},
          "execution_count": 39
        }
      ]
    },
    {
      "cell_type": "code",
      "source": [
        "hazard = pd.DataFrame({'Hazard Acumulado': value for value in surv})\n",
        "hazard['Meses'] = hazard.index\n",
        "hazard"
      ],
      "metadata": {
        "colab": {
          "base_uri": "https://localhost:8080/",
          "height": 424
        },
        "id": "2HbxW3aFmOm1",
        "outputId": "13110c1a-8608-4629-ed16-464c45013fc6"
      },
      "execution_count": null,
      "outputs": [
        {
          "output_type": "execute_result",
          "data": {
            "text/plain": [
              "    Hazard Acumulado  Meses\n",
              "0           0.999933      0\n",
              "1           0.999768      1\n",
              "2           0.999510      2\n",
              "3           0.999414      3\n",
              "4           0.999139      4\n",
              "..               ...    ...\n",
              "92          0.739814     92\n",
              "93          0.739686     93\n",
              "94          0.739686     94\n",
              "95          0.738767     95\n",
              "96          0.679726     96\n",
              "\n",
              "[97 rows x 2 columns]"
            ],
            "text/html": [
              "\n",
              "  <div id=\"df-912cd1b9-9ed5-437f-94c3-d4e6010d4e8d\">\n",
              "    <div class=\"colab-df-container\">\n",
              "      <div>\n",
              "<style scoped>\n",
              "    .dataframe tbody tr th:only-of-type {\n",
              "        vertical-align: middle;\n",
              "    }\n",
              "\n",
              "    .dataframe tbody tr th {\n",
              "        vertical-align: top;\n",
              "    }\n",
              "\n",
              "    .dataframe thead th {\n",
              "        text-align: right;\n",
              "    }\n",
              "</style>\n",
              "<table border=\"1\" class=\"dataframe\">\n",
              "  <thead>\n",
              "    <tr style=\"text-align: right;\">\n",
              "      <th></th>\n",
              "      <th>Hazard Acumulado</th>\n",
              "      <th>Meses</th>\n",
              "    </tr>\n",
              "  </thead>\n",
              "  <tbody>\n",
              "    <tr>\n",
              "      <th>0</th>\n",
              "      <td>0.999933</td>\n",
              "      <td>0</td>\n",
              "    </tr>\n",
              "    <tr>\n",
              "      <th>1</th>\n",
              "      <td>0.999768</td>\n",
              "      <td>1</td>\n",
              "    </tr>\n",
              "    <tr>\n",
              "      <th>2</th>\n",
              "      <td>0.999510</td>\n",
              "      <td>2</td>\n",
              "    </tr>\n",
              "    <tr>\n",
              "      <th>3</th>\n",
              "      <td>0.999414</td>\n",
              "      <td>3</td>\n",
              "    </tr>\n",
              "    <tr>\n",
              "      <th>4</th>\n",
              "      <td>0.999139</td>\n",
              "      <td>4</td>\n",
              "    </tr>\n",
              "    <tr>\n",
              "      <th>...</th>\n",
              "      <td>...</td>\n",
              "      <td>...</td>\n",
              "    </tr>\n",
              "    <tr>\n",
              "      <th>92</th>\n",
              "      <td>0.739814</td>\n",
              "      <td>92</td>\n",
              "    </tr>\n",
              "    <tr>\n",
              "      <th>93</th>\n",
              "      <td>0.739686</td>\n",
              "      <td>93</td>\n",
              "    </tr>\n",
              "    <tr>\n",
              "      <th>94</th>\n",
              "      <td>0.739686</td>\n",
              "      <td>94</td>\n",
              "    </tr>\n",
              "    <tr>\n",
              "      <th>95</th>\n",
              "      <td>0.738767</td>\n",
              "      <td>95</td>\n",
              "    </tr>\n",
              "    <tr>\n",
              "      <th>96</th>\n",
              "      <td>0.679726</td>\n",
              "      <td>96</td>\n",
              "    </tr>\n",
              "  </tbody>\n",
              "</table>\n",
              "<p>97 rows × 2 columns</p>\n",
              "</div>\n",
              "      <button class=\"colab-df-convert\" onclick=\"convertToInteractive('df-912cd1b9-9ed5-437f-94c3-d4e6010d4e8d')\"\n",
              "              title=\"Convert this dataframe to an interactive table.\"\n",
              "              style=\"display:none;\">\n",
              "        \n",
              "  <svg xmlns=\"http://www.w3.org/2000/svg\" height=\"24px\"viewBox=\"0 0 24 24\"\n",
              "       width=\"24px\">\n",
              "    <path d=\"M0 0h24v24H0V0z\" fill=\"none\"/>\n",
              "    <path d=\"M18.56 5.44l.94 2.06.94-2.06 2.06-.94-2.06-.94-.94-2.06-.94 2.06-2.06.94zm-11 1L8.5 8.5l.94-2.06 2.06-.94-2.06-.94L8.5 2.5l-.94 2.06-2.06.94zm10 10l.94 2.06.94-2.06 2.06-.94-2.06-.94-.94-2.06-.94 2.06-2.06.94z\"/><path d=\"M17.41 7.96l-1.37-1.37c-.4-.4-.92-.59-1.43-.59-.52 0-1.04.2-1.43.59L10.3 9.45l-7.72 7.72c-.78.78-.78 2.05 0 2.83L4 21.41c.39.39.9.59 1.41.59.51 0 1.02-.2 1.41-.59l7.78-7.78 2.81-2.81c.8-.78.8-2.07 0-2.86zM5.41 20L4 18.59l7.72-7.72 1.47 1.35L5.41 20z\"/>\n",
              "  </svg>\n",
              "      </button>\n",
              "      \n",
              "  <style>\n",
              "    .colab-df-container {\n",
              "      display:flex;\n",
              "      flex-wrap:wrap;\n",
              "      gap: 12px;\n",
              "    }\n",
              "\n",
              "    .colab-df-convert {\n",
              "      background-color: #E8F0FE;\n",
              "      border: none;\n",
              "      border-radius: 50%;\n",
              "      cursor: pointer;\n",
              "      display: none;\n",
              "      fill: #1967D2;\n",
              "      height: 32px;\n",
              "      padding: 0 0 0 0;\n",
              "      width: 32px;\n",
              "    }\n",
              "\n",
              "    .colab-df-convert:hover {\n",
              "      background-color: #E2EBFA;\n",
              "      box-shadow: 0px 1px 2px rgba(60, 64, 67, 0.3), 0px 1px 3px 1px rgba(60, 64, 67, 0.15);\n",
              "      fill: #174EA6;\n",
              "    }\n",
              "\n",
              "    [theme=dark] .colab-df-convert {\n",
              "      background-color: #3B4455;\n",
              "      fill: #D2E3FC;\n",
              "    }\n",
              "\n",
              "    [theme=dark] .colab-df-convert:hover {\n",
              "      background-color: #434B5C;\n",
              "      box-shadow: 0px 1px 3px 1px rgba(0, 0, 0, 0.15);\n",
              "      filter: drop-shadow(0px 1px 2px rgba(0, 0, 0, 0.3));\n",
              "      fill: #FFFFFF;\n",
              "    }\n",
              "  </style>\n",
              "\n",
              "      <script>\n",
              "        const buttonEl =\n",
              "          document.querySelector('#df-912cd1b9-9ed5-437f-94c3-d4e6010d4e8d button.colab-df-convert');\n",
              "        buttonEl.style.display =\n",
              "          google.colab.kernel.accessAllowed ? 'block' : 'none';\n",
              "\n",
              "        async function convertToInteractive(key) {\n",
              "          const element = document.querySelector('#df-912cd1b9-9ed5-437f-94c3-d4e6010d4e8d');\n",
              "          const dataTable =\n",
              "            await google.colab.kernel.invokeFunction('convertToInteractive',\n",
              "                                                     [key], {});\n",
              "          if (!dataTable) return;\n",
              "\n",
              "          const docLinkHtml = 'Like what you see? Visit the ' +\n",
              "            '<a target=\"_blank\" href=https://colab.research.google.com/notebooks/data_table.ipynb>data table notebook</a>'\n",
              "            + ' to learn more about interactive tables.';\n",
              "          element.innerHTML = '';\n",
              "          dataTable['output_type'] = 'display_data';\n",
              "          await google.colab.output.renderOutput(dataTable, element);\n",
              "          const docLink = document.createElement('div');\n",
              "          docLink.innerHTML = docLinkHtml;\n",
              "          element.appendChild(docLink);\n",
              "        }\n",
              "      </script>\n",
              "    </div>\n",
              "  </div>\n",
              "  "
            ]
          },
          "metadata": {},
          "execution_count": 56
        }
      ]
    },
    {
      "cell_type": "code",
      "source": [
        "import seaborn as sns"
      ],
      "metadata": {
        "id": "EMTZLNqtmRbg"
      },
      "execution_count": null,
      "outputs": []
    },
    {
      "cell_type": "code",
      "source": [
        "sns.lineplot(hazard['Meses'],hazard['Hazard Acumulado'], drawstyle='steps-pre').set(title='Função de Sobrevivência')\n",
        "plt.show()"
      ],
      "metadata": {
        "colab": {
          "base_uri": "https://localhost:8080/",
          "height": 350
        },
        "id": "E5XHjdJQnftF",
        "outputId": "9611a83c-a3e8-41a3-b14d-2053fc863201"
      },
      "execution_count": null,
      "outputs": [
        {
          "output_type": "stream",
          "name": "stderr",
          "text": [
            "/usr/local/lib/python3.7/dist-packages/seaborn/_decorators.py:43: FutureWarning: Pass the following variables as keyword args: x, y. From version 0.12, the only valid positional argument will be `data`, and passing other arguments without an explicit keyword will result in an error or misinterpretation.\n",
            "  FutureWarning\n"
          ]
        },
        {
          "output_type": "display_data",
          "data": {
            "text/plain": [
              "<Figure size 432x288 with 1 Axes>"
            ],
            "image/png": "[encoded data removed]"
          },
          "metadata": {
            "needs_background": "light"
          }
        }
      ]
    },
    {
      "cell_type": "code",
      "source": [],
      "metadata": {
        "id": "9wtbjUJRnk5w"
      },
      "execution_count": null,
      "outputs": []
    }
  ]
}
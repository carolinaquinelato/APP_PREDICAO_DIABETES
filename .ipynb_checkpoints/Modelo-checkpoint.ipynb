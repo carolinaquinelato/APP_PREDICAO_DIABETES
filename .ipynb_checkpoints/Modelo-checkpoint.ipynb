{
 "cells": [
  {
   "cell_type": "markdown",
   "id": "63ed4e19",
   "metadata": {},
   "source": [
    "## Prevendo o risco de diabetes em estágio inicial em indivíduos usando Machine Learning\n",
    "\n",
    "#### Datasource\n",
    "+ https://archive.ics.uci.edu/ml/datasets/Early+stage+diabetes+risk+prediction+dataset.\n",
    "+ https://archive.ics.uci.edu/ml/machine-learning-databases/00529/"
   ]
  },
  {
   "cell_type": "code",
   "execution_count": null,
   "id": "24e0290f",
   "metadata": {},
   "outputs": [],
   "source": [
    "#Carregando as bibliotecas principais\n",
    "import pandas as pd\n",
    "import numpy as np\n",
    "\n",
    "import matplotlib.pyplot as plt\n",
    "import seaborn as sns\n",
    "\n",
    "from sklearn.linear_model import LogisticRegression\n",
    "from sklearn.tree import DecisionTreeClassifier\n",
    "from sklearn.ensemble import RandomForestClassifier\n",
    "\n",
    "from sklearn.metrics import accuracy_score,classification_report,confusion_matrix\n",
    "from sklearn.model_selection import train_test_split"
   ]
  },
  {
   "cell_type": "code",
   "execution_count": null,
   "id": "f0e58d82",
   "metadata": {},
   "outputs": [],
   "source": [
    "# Carregando a base para um dataframe pandas\n",
    "df = pd.read_csv('diabetes_data_upload.csv') "
   ]
  },
  {
   "cell_type": "markdown",
   "id": "b2dff4b9",
   "metadata": {},
   "source": [
    "#### Sobre o conjunto de dados\n",
    "+ Fonte de dados:\n",
    "    - https://archive.ics.uci.edu/ml/datasets/Early+stage+diabetes+risk+prediction+dataset.#\n",
    "+ Descrição:\n",
    "    - O conjunto de dados foi coletado por meio de questionários diretos de pacientes do Sylhet Diabetes Hospital em Sylhet, Bangladesh, e aprovado por um médico.\n",
    "    \n",
    "+ Metadados:\n",
    "    - O conjunto de dados é um conjunto de dados multivariável em formato CSV.\n",
    "    - Possui 520 pontos de dados e 17 atributos.\n",
    "    \n",
    "+ Informação dos Atributos:\n",
    "    - Age 16-90\n",
    "    - Sex 1. Male, 2.Female\n",
    "    - Polyuria 1.Yes, 2.No.\n",
    "    - Polydipsia 1.Yes, 2.No.\n",
    "    - sudden weight loss 1.Yes, 2.No.\n",
    "    - weakness 1.Yes, 2.No.\n",
    "    - Polyphagia 1.Yes, 2.No.\n",
    "    - Genital thrush 1.Yes, 2.No.\n",
    "    - visual blurring 1.Yes, 2.No.\n",
    "    - Itching 1.Yes, 2.No.\n",
    "    - Irritability 1.Yes, 2.No.\n",
    "    - delayed healing 1.Yes, 2.No.\n",
    "    - partial paresis 1.Yes, 2.No.\n",
    "    - muscle stiffness 1.Yes, 2.No.\n",
    "    - Alopecia 1.Yes, 2.No.\n",
    "    - Obesity 1.Yes, 2.No.\n",
    "    - Class 1.Positive, 2.Negative."
   ]
  },
  {
   "cell_type": "code",
   "execution_count": null,
   "id": "e3fbe138",
   "metadata": {},
   "outputs": [],
   "source": [
    "df.head()"
   ]
  },
  {
   "cell_type": "markdown",
   "id": "d5e48c61",
   "metadata": {},
   "source": [
    "### Análise descritiva "
   ]
  },
  {
   "cell_type": "code",
   "execution_count": null,
   "id": "4143bf7e",
   "metadata": {},
   "outputs": [],
   "source": [
    "df.shape"
   ]
  },
  {
   "cell_type": "code",
   "execution_count": null,
   "id": "29e911dc",
   "metadata": {},
   "outputs": [],
   "source": [
    "df.columns"
   ]
  },
  {
   "cell_type": "code",
   "execution_count": null,
   "id": "aaff1c43",
   "metadata": {},
   "outputs": [],
   "source": [
    "#Traduzindo para o português\n",
    "df.columns = ['Idade',\n",
    "              'Gênero',\n",
    "              'Poliúria', #Expelir quantidades anormalmente grandes de urina.\n",
    "              'Excesso de sede', #Sintoma para diabetes\n",
    "              'Perca de peso repentina',\n",
    "              'Fraqueza',\n",
    "              'Polifagia', #Comer em excesso devido a fome excessiva ou apetite elevado.\n",
    "              'Candidíase vaginal',\n",
    "              'Visão embaçada',\n",
    "              'Coceira',\n",
    "              'Irritabilidade',\n",
    "              'Cicatrização demorada',\n",
    "              'Paralisia parcial',\n",
    "              'Rigidez muscular',\n",
    "              'Queda de cabelo',\n",
    "              'Obesidade',\n",
    "              'Tem diabetes'\n",
    "            ]"
   ]
  },
  {
   "cell_type": "code",
   "execution_count": null,
   "id": "c1a60a02",
   "metadata": {},
   "outputs": [],
   "source": [
    "#Deixando os nomes mais padronizados\n",
    "df.columns.str.lower().str.replace(' ','_')\n",
    "df.columns = df.columns.str.lower().str.replace(' ','_')"
   ]
  },
  {
   "cell_type": "code",
   "execution_count": null,
   "id": "9265edec",
   "metadata": {},
   "outputs": [],
   "source": [
    "df.head()"
   ]
  },
  {
   "cell_type": "code",
   "execution_count": null,
   "id": "681b14c0",
   "metadata": {},
   "outputs": [],
   "source": [
    "df.info()"
   ]
  },
  {
   "cell_type": "code",
   "execution_count": null,
   "id": "54a24d89",
   "metadata": {},
   "outputs": [],
   "source": [
    "df.isnull().sum()"
   ]
  },
  {
   "cell_type": "code",
   "execution_count": null,
   "id": "d877c57a",
   "metadata": {},
   "outputs": [],
   "source": [
    "df['tem_diabetes'].value_counts()"
   ]
  },
  {
   "cell_type": "code",
   "execution_count": null,
   "id": "ecaf8b4e",
   "metadata": {},
   "outputs": [],
   "source": [
    "# Acuracia base: 'chuta' que não tem diabetes\n",
    "200/520"
   ]
  },
  {
   "cell_type": "markdown",
   "id": "0a07a9bb",
   "metadata": {},
   "source": [
    "### Data cleaning"
   ]
  },
  {
   "cell_type": "markdown",
   "id": "422986e0",
   "metadata": {},
   "source": [
    "#### Para poder utilizar os dados nos modelos de ML, irei alterar o dados para binário, sendo:\n",
    "+ Gênero: Feminino = 0 e Masculino = 1\n",
    "+ Outros: Não = 0 e Sim = 1"
   ]
  },
  {
   "cell_type": "code",
   "execution_count": null,
   "id": "3c71d662",
   "metadata": {},
   "outputs": [],
   "source": [
    "from sklearn.preprocessing import LabelEncoder"
   ]
  },
  {
   "cell_type": "code",
   "execution_count": null,
   "id": "3421959f",
   "metadata": {},
   "outputs": [],
   "source": [
    "#Vendo quais colunas tem o tipo Object\n",
    "listaObj = df.select_dtypes(include='object').columns\n",
    "listaObj"
   ]
  },
  {
   "cell_type": "code",
   "execution_count": null,
   "id": "8b5eb642",
   "metadata": {},
   "outputs": [],
   "source": [
    "columns_to_label_encode = ['poliúria', 'excesso_de_sede', 'perca_de_peso_repentina',\n",
    "       'fraqueza', 'polifagia', 'candidíase_vaginal', 'visão_embaçada',\n",
    "       'coceira', 'irritabilidade', 'cicatrização_demorada',\n",
    "       'paralisia_parcial', 'rigidez_muscular', 'queda_de_cabelo', 'obesidade']"
   ]
  },
  {
   "cell_type": "code",
   "execution_count": null,
   "id": "9eef2d8d",
   "metadata": {},
   "outputs": [],
   "source": [
    "LE = LabelEncoder()"
   ]
  },
  {
   "cell_type": "code",
   "execution_count": null,
   "id": "0eb8f4be",
   "metadata": {},
   "outputs": [],
   "source": [
    "#Tranformando todas as colunas menos Gênero e Tem Diabetes\n",
    "for col in columns_to_label_encode:\n",
    "    df[col] = LE.fit_transform(df[col].astype(str))"
   ]
  },
  {
   "cell_type": "code",
   "execution_count": null,
   "id": "47cd65a3",
   "metadata": {},
   "outputs": [],
   "source": [
    "df.dtypes #vendo se transformou o tipo da coluna "
   ]
  },
  {
   "cell_type": "code",
   "execution_count": null,
   "id": "c53ae6d3",
   "metadata": {},
   "outputs": [],
   "source": [
    "df.head()"
   ]
  },
  {
   "cell_type": "code",
   "execution_count": null,
   "id": "eaefd6db",
   "metadata": {},
   "outputs": [],
   "source": [
    "# Para saber qual era a variável antes da tranformação:\n",
    "print(LE.classes_)"
   ]
  },
  {
   "cell_type": "code",
   "execution_count": null,
   "id": "93d99532",
   "metadata": {},
   "outputs": [],
   "source": [
    "#Fazendo uma função costumizada para transformar o gênero e a classificação de diabetes\n",
    "\n",
    "#Para gênero\n",
    "gender_map = {\"Female\":0,\"Male\":1} \n",
    "df['gênero'] = df['gênero'].map(gender_map)\n",
    "df['gênero'].head()"
   ]
  },
  {
   "cell_type": "code",
   "execution_count": null,
   "id": "de84e99d",
   "metadata": {},
   "outputs": [],
   "source": [
    "#Para classificação\n",
    "target_label_map = {\"Negative\":0,\"Positive\":1} \n",
    "df['tem_diabetes'] = df['tem_diabetes'].map(target_label_map)\n",
    "df['tem_diabetes'].head()"
   ]
  },
  {
   "cell_type": "code",
   "execution_count": null,
   "id": "a549d3ff",
   "metadata": {},
   "outputs": [],
   "source": [
    "df.head()"
   ]
  },
  {
   "cell_type": "code",
   "execution_count": null,
   "id": "79c1a79b",
   "metadata": {},
   "outputs": [],
   "source": [
    "#Vendo novamente as informações após transformação\n",
    "df.info()"
   ]
  },
  {
   "cell_type": "markdown",
   "id": "26751f3a",
   "metadata": {},
   "source": [
    "### Análise exploratória"
   ]
  },
  {
   "cell_type": "code",
   "execution_count": null,
   "id": "b8f4e862",
   "metadata": {},
   "outputs": [],
   "source": [
    "#Informações de máximos e mínimos, quartis e média\n",
    "df.describe()"
   ]
  },
  {
   "cell_type": "markdown",
   "id": "52a8874d",
   "metadata": {},
   "source": [
    "#### Trabalhando com gênero"
   ]
  },
  {
   "cell_type": "code",
   "execution_count": null,
   "id": "ef2731a5",
   "metadata": {},
   "outputs": [],
   "source": [
    "df['gênero'].value_counts() #1-Masculino, 0-Feminino"
   ]
  },
  {
   "cell_type": "markdown",
   "id": "5bbad509",
   "metadata": {},
   "source": [
    "#### Trabalhando com idade"
   ]
  },
  {
   "cell_type": "code",
   "execution_count": null,
   "id": "7129f1c8",
   "metadata": {},
   "outputs": [],
   "source": [
    "#Criando grupos para as idades\n",
    "labels = [\"Menor que 10\",\"10-20\",\"20-30\",\"30-40\",\"40-50\",\"50-60\",\"60-70\",\"70-80\",\"80 e mais\"]\n",
    "bins= [0,10,20,30,40,50,60,70,80,90]"
   ]
  },
  {
   "cell_type": "code",
   "execution_count": null,
   "id": "9aa0be59",
   "metadata": {},
   "outputs": [],
   "source": [
    "#Criando um dataframe com idades agrupadas \n",
    "idade = df.groupby(pd.cut(df['idade'],bins=bins,labels=labels)).size()"
   ]
  },
  {
   "cell_type": "code",
   "execution_count": null,
   "id": "0c327951",
   "metadata": {},
   "outputs": [],
   "source": [
    "idade.head()"
   ]
  },
  {
   "cell_type": "code",
   "execution_count": null,
   "id": "2f783dad",
   "metadata": {},
   "outputs": [],
   "source": [
    "idade = idade.reset_index(name='Quantidade')\n",
    "idade.head()"
   ]
  },
  {
   "cell_type": "code",
   "execution_count": null,
   "id": "4375582b",
   "metadata": {},
   "outputs": [],
   "source": [
    "# Distribuição de dados por idade\n",
    "plt.figure(figsize=(10,5))\n",
    "plt.bar(idade['idade'],idade['Quantidade'])\n",
    "plt.ylabel('Counts')\n",
    "plt.title('Frequência de idade')\n",
    "plt.show()"
   ]
  },
  {
   "cell_type": "code",
   "execution_count": null,
   "id": "359ec763",
   "metadata": {},
   "outputs": [],
   "source": [
    "# Vendo outliers em idade usando BoxPlot\n",
    "sns.boxplot(df['idade'])"
   ]
  },
  {
   "cell_type": "markdown",
   "id": "ca73019a",
   "metadata": {},
   "source": [
    "#### Analisando as correlações e variáveis de interesse"
   ]
  },
  {
   "cell_type": "code",
   "execution_count": null,
   "id": "28aa0fd3",
   "metadata": {},
   "outputs": [],
   "source": [
    "# Métodod 1\n",
    "df.corr()"
   ]
  },
  {
   "cell_type": "code",
   "execution_count": null,
   "id": "390b6256",
   "metadata": {},
   "outputs": [],
   "source": [
    "# Método 2- Heatmap\n",
    "plt.figure(figsize=(20,10))\n",
    "sns.heatmap(df.corr(),annot=True, cmap=\"YlGnBu\")\n",
    "plt.show()"
   ]
  },
  {
   "cell_type": "code",
   "execution_count": null,
   "id": "1ec97efb",
   "metadata": {},
   "outputs": [],
   "source": [
    "#Método 3 - Destacando\n",
    "corr_matrix = df.corr()\n",
    "\n",
    "highest_corr = corr_matrix[corr_matrix>=.3] #só mostra as correlações maiores que 0.30\n",
    "plt.figure(figsize=(12,8))\n",
    "sns.heatmap(highest_corr,annot=True, cmap=\"YlGnBu\") #destaca as correlações mais altas (perto de 1)"
   ]
  },
  {
   "cell_type": "markdown",
   "id": "e12bdea7",
   "metadata": {},
   "source": [
    "## Selecionando as variáveis de interesse\n",
    "\n",
    "Usando a função SelectKBest do scikit-learn conseguimos visualizar um score para cada variável, permitindo selecionar aquelas que aparentam ser mais importantes para definir se a pessoa tem ou não diabetes"
   ]
  },
  {
   "cell_type": "code",
   "execution_count": null,
   "id": "19d515e6",
   "metadata": {},
   "outputs": [],
   "source": [
    "from sklearn.feature_selection import SelectKBest,chi2,RFE\n",
    "from sklearn.ensemble import ExtraTreesClassifier"
   ]
  },
  {
   "cell_type": "code",
   "execution_count": null,
   "id": "f3aeaf1c",
   "metadata": {},
   "outputs": [],
   "source": [
    "#Definindo as Features and Labels\n",
    "X = df[['idade', 'gênero', 'poliúria', 'excesso_de_sede', 'perca_de_peso_repentina',\n",
    "       'fraqueza', 'polifagia', 'candidíase_vaginal', 'visão_embaçada',\n",
    "       'coceira', 'irritabilidade', 'cicatrização_demorada',\n",
    "       'paralisia_parcial', 'rigidez_muscular', 'queda_de_cabelo','obesidade']]\n",
    "\n",
    "y = df['tem_diabetes']"
   ]
  },
  {
   "cell_type": "code",
   "execution_count": null,
   "id": "28828eed",
   "metadata": {},
   "outputs": [],
   "source": [
    "# Usando o Selectkbest para achar os melhores scores\n",
    "skb = SelectKBest(score_func=chi2,k=10)\n",
    "best_feature_fit = skb.fit(X,y) #fazendo o fit dos dados"
   ]
  },
  {
   "cell_type": "code",
   "execution_count": null,
   "id": "7242835b",
   "metadata": {},
   "outputs": [],
   "source": [
    "# Mapeando o nome das colunas\n",
    "feature_scores = pd.DataFrame(best_feature_fit.scores_,columns=['Feature_Scores'])"
   ]
  },
  {
   "cell_type": "code",
   "execution_count": null,
   "id": "9a40c6f6",
   "metadata": {},
   "outputs": [],
   "source": [
    "nomes_features = pd.DataFrame(X.columns,columns=['Nome_feature'])\n",
    "score_das_features = pd.concat([feature_scores,nomes_features],axis=1)"
   ]
  },
  {
   "cell_type": "code",
   "execution_count": null,
   "id": "57b124e1",
   "metadata": {},
   "outputs": [],
   "source": [
    "# List Features\n",
    "score_das_features"
   ]
  },
  {
   "cell_type": "code",
   "execution_count": null,
   "id": "04d6cf07",
   "metadata": {},
   "outputs": [],
   "source": [
    "#Ordenando de maior score para menor\n",
    "#Quanto maior o score, mais importante a feature\n",
    "score_das_features.nlargest(12,'Feature_Scores')"
   ]
  },
  {
   "cell_type": "markdown",
   "id": "0117e161",
   "metadata": {},
   "source": [
    "A função ExtraTreesClassifier também da um score para cada variável. Vamos comparar os resultados com o SelectKBest"
   ]
  },
  {
   "cell_type": "code",
   "execution_count": null,
   "id": "0133b1c5",
   "metadata": {},
   "outputs": [],
   "source": [
    "et_clf = ExtraTreesClassifier() #criando a instância\n",
    "et_clf.fit(X,y) #fazendo o fit\n",
    "\n",
    "feature_importance_df = pd.Series(et_clf.feature_importances_,index=X.columns) #criando o df\n",
    "feature_importance_df.head()"
   ]
  },
  {
   "cell_type": "code",
   "execution_count": null,
   "id": "bf792172",
   "metadata": {},
   "outputs": [],
   "source": [
    "feature_importance_df.nlargest(12).plot(kind='barh')"
   ]
  },
  {
   "cell_type": "markdown",
   "id": "3a7988b4",
   "metadata": {},
   "source": [
    "#### Análise\n",
    "\n",
    "+ Podemos observar que idade, perca de peso e rigidez muscular estão presentes no top 5 dos dois métodos. \n",
    "\n",
    "+ No SelectKBest temos também irritabilidade e poliúria.\n",
    "\n",
    "+ No ExtraTreesClassifier temos cicatrização demorada e polifagia.\n"
   ]
  },
  {
   "cell_type": "markdown",
   "id": "928c6551",
   "metadata": {},
   "source": [
    "## Machine Learning\n",
    "\n",
    "+ Estaremos construindo um modelo de classificação de aprendizado de máquina supervisionado usando os seguinte algoritmos:\n",
    "    - LogisticRegression\n",
    "    - Decision Tree \n",
    "    \n",
    "+ Fica como sugestão para o futuro fazer o KNN"
   ]
  },
  {
   "cell_type": "code",
   "execution_count": null,
   "id": "d13f98f8",
   "metadata": {},
   "outputs": [],
   "source": [
    "#Importanto os modelos\n",
    "from sklearn.linear_model import LogisticRegression\n",
    "from sklearn.ensemble import RandomForestClassifier\n",
    "from sklearn.tree import DecisionTreeClassifier"
   ]
  },
  {
   "cell_type": "code",
   "execution_count": null,
   "id": "53c3ad9f",
   "metadata": {},
   "outputs": [],
   "source": [
    "print(X.columns)"
   ]
  },
  {
   "cell_type": "code",
   "execution_count": null,
   "id": "a12d2a77",
   "metadata": {},
   "outputs": [],
   "source": [
    "#Fazendo o split de treino e teste\n",
    "x_train,x_test,y_train,y_test = train_test_split(X,y,test_size=0.30, random_state=42)"
   ]
  },
  {
   "cell_type": "code",
   "execution_count": null,
   "id": "f68fc46e",
   "metadata": {},
   "outputs": [],
   "source": [
    "print('Treinaremos com %d elementos e testaremos com %d elementos' % (len(x_train), len(x_test)))"
   ]
  },
  {
   "cell_type": "markdown",
   "id": "ea623c0f",
   "metadata": {},
   "source": [
    "### Regressão Logística"
   ]
  },
  {
   "cell_type": "code",
   "execution_count": null,
   "id": "70705e85",
   "metadata": {},
   "outputs": [],
   "source": [
    "lr_model = LogisticRegression(random_state=42)\n",
    "lr_model.fit(x_train,y_train) #fazendo o fit do modelo com os dados"
   ]
  },
  {
   "cell_type": "code",
   "execution_count": null,
   "id": "3bb01704",
   "metadata": {},
   "outputs": [],
   "source": [
    "#Acurácia RL - Método 1\n",
    "scoreRL = lr_model.score(x_test,y_test)\n",
    "\n",
    "print(\"Acurácia do modelo RL por método score foi de {:2f}\".format(scoreRL))"
   ]
  },
  {
   "cell_type": "code",
   "execution_count": null,
   "id": "c8ec25ec",
   "metadata": {},
   "outputs": [],
   "source": [
    "#Acurácia RL - Método 2\n",
    "y_pred = lr_model.predict(x_test)\n",
    "\n",
    "print(\"Acurácia do modelo RL por comparação foi de {:2f}\".format(accuracy_score(y_test,y_pred)))"
   ]
  },
  {
   "cell_type": "markdown",
   "id": "38410ca2",
   "metadata": {},
   "source": [
    "#### Fazendo a análise da precisão do modelo usando:\n",
    "\n",
    "+ Classification Report:\n",
    " - Esta função cria um relatório de texto mostrando as principais métricas de classificação, como precisão, recall, pontuação f1\n",
    " - Precisão: refere-se à capacidade do classificador de não rotular como positiva uma amostra negativa. É o número de resultados positivos verdadeiros dividido pelo número de todos os resultados positivos, incluindo aqueles não identificados corretamente.\n",
    " - Recall: refere-se à capacidade do classificador de encontrar todas as amostras positivas. É o número de resultados positivos verdadeiros dividido pelo número de todas as amostras que deveriam ter sido identificadas como positivas.\n",
    " - F1-score: o F1-score é a média harmônica da precisão e recall. O valor mais alto possível de uma pontuação F é 1,0, indicando precisão e rechamada perfeitas\n",
    " \n",
    "+ Matriz de Confusão:\n",
    "  - É uma tabela com duas linhas e duas colunas que relata o número de falsos positivos , falsos negativos , verdadeiros positivos e verdadeiros negativos\n",
    "  \n",
    "+ Curva ROC:\n",
    "    - a curva ROC traça a taxa de verdadeiro positivo (outro nome para rechamada) em relação à taxa de falso positivo. Um classificador perfeito terá um ROC AUC igual a 1. De forma geral, temos a máxima da curva ROC, que diz que quanto mais para cima e esquerda, melhor o teste.\n",
    "\n",
    "+ Curva de Recall de Precisão\n",
    "    - As curvas de recuperação de precisão resumem a compensação entre a taxa positiva verdadeira e o valor preditivo positivo para um modelo preditivo usando diferentes limites de probabilidade.\n",
    "\n",
    "+ Cross-validation"
   ]
  },
  {
   "cell_type": "code",
   "execution_count": null,
   "id": "ae62cfc1",
   "metadata": {},
   "outputs": [],
   "source": [
    "from sklearn.metrics import classification_report,confusion_matrix,plot_confusion_matrix,plot_precision_recall_curve,plot_roc_curve"
   ]
  },
  {
   "cell_type": "code",
   "execution_count": null,
   "id": "c723bbca",
   "metadata": {},
   "outputs": [],
   "source": [
    "#Cross-validation - função\n",
    "from sklearn.model_selection import cross_val_score\n",
    "\n",
    "def cross_validate_model(model_estimator,X,y,cv):\n",
    "    \"\"\"Evaluate Model using cross validation of KFolds\"\"\"\n",
    "    scores = cross_val_score(model_estimator, X, y, scoring='accuracy', cv=cv)\n",
    "    \n",
    "    #Resultado\n",
    "    result = \"Acurácia média: {:2f}  Desvio padrão : {:2f}\".format(np.mean(scores), np.std(scores)) \n",
    "    return result"
   ]
  },
  {
   "cell_type": "code",
   "execution_count": null,
   "id": "fada73a6",
   "metadata": {},
   "outputs": [],
   "source": [
    "#Classification Report\n",
    "target_names= [\"Negativo(0)\",\"Positivo(1)\"]\n",
    "\n",
    "print(classification_report(y_test,y_pred,target_names=target_names))"
   ]
  },
  {
   "cell_type": "code",
   "execution_count": null,
   "id": "43289d54",
   "metadata": {},
   "outputs": [],
   "source": [
    "#Matriz de confusão\n",
    "confusion_matrix(y_test,y_pred)"
   ]
  },
  {
   "cell_type": "code",
   "execution_count": null,
   "id": "5af35dda",
   "metadata": {},
   "outputs": [],
   "source": [
    "plot_confusion_matrix(lr_model,x_test,y_test)"
   ]
  },
  {
   "cell_type": "code",
   "execution_count": null,
   "id": "ff8e0885",
   "metadata": {},
   "outputs": [],
   "source": [
    "#Curva ROC\n",
    "plot_roc_curve(lr_model, x_test, y_test)\n",
    "plt.title(\"Curva ROC para o modelo RL\")\n",
    "plt.grid()\n",
    "plt.show()"
   ]
  },
  {
   "cell_type": "code",
   "execution_count": null,
   "id": "98542430",
   "metadata": {},
   "outputs": [],
   "source": [
    "#Curva de Recall de Precisão\n",
    "plot_precision_recall_curve(lr_model, x_test, y_test)\n",
    "plt.title(\"Curva de Recall de Precisão para o modelo de RL\")\n",
    "plt.grid()\n",
    "plt.show()"
   ]
  },
  {
   "cell_type": "code",
   "execution_count": null,
   "id": "26770f4f",
   "metadata": {},
   "outputs": [],
   "source": [
    "#Cross-validation - Modelo RL\n",
    "cv_scores_for_rl_model = cross_validate_model(LogisticRegression(),X,y,5)\n",
    "print(cv_scores_for_rl_model) #Quanto mais próximo de 0 for o desvio padrão, mais homogêneo são os dados"
   ]
  },
  {
   "cell_type": "markdown",
   "id": "97699a3b",
   "metadata": {},
   "source": [
    "### Decision Tree"
   ]
  },
  {
   "cell_type": "code",
   "execution_count": null,
   "id": "2b187f34",
   "metadata": {},
   "outputs": [],
   "source": [
    "dt_model = DecisionTreeClassifier(random_state=42)\n",
    "dt_model.fit(x_train,y_train) #fazendo o fit do modelo com os dados"
   ]
  },
  {
   "cell_type": "code",
   "execution_count": null,
   "id": "abbd84cd",
   "metadata": {},
   "outputs": [],
   "source": [
    "#Acurácia do modelo DT - Método 2\n",
    "y_pred2 = dt_model.predict(x_test)\n",
    "print(\"Acurácia do modelo DT por comparação foi de {:2f}\".format(accuracy_score(y_test,y_pred2)))"
   ]
  },
  {
   "cell_type": "markdown",
   "id": "8dc67772",
   "metadata": {},
   "source": [
    "+ Comparando os dois modelos, Regressão Logística e Decision Tree, a DT possui uma acurácia maior, sendo de 0.87 em comparação com os 0,78 da RL."
   ]
  },
  {
   "cell_type": "code",
   "execution_count": null,
   "id": "b9488d4e",
   "metadata": {},
   "outputs": [],
   "source": [
    "#Classification Report\n",
    "print(classification_report(y_test,y_pred2,target_names=target_names))"
   ]
  },
  {
   "cell_type": "code",
   "execution_count": null,
   "id": "a8409036",
   "metadata": {},
   "outputs": [],
   "source": [
    "#Matriz de confusão\n",
    "plot_confusion_matrix(dt_model,x_test,y_test)"
   ]
  },
  {
   "cell_type": "code",
   "execution_count": null,
   "id": "90333adf",
   "metadata": {},
   "outputs": [],
   "source": [
    "# Curva ROC\n",
    "plot_roc_curve(dt_model, x_test, y_test)\n",
    "plt.title(\"Curva ROC para o modelo DT\")\n",
    "plt.grid()\n",
    "plt.show()"
   ]
  },
  {
   "cell_type": "code",
   "execution_count": null,
   "id": "8fe9a341",
   "metadata": {},
   "outputs": [],
   "source": [
    "#Curva de Recall de Precisão\n",
    "plot_precision_recall_curve(dt_model, x_test, y_test)\n",
    "plt.title(\"Curva de Recall de Precisão para o modelo DT\")\n",
    "plt.grid()\n",
    "plt.show()"
   ]
  },
  {
   "cell_type": "code",
   "execution_count": null,
   "id": "edecfd79",
   "metadata": {},
   "outputs": [],
   "source": [
    "#Cross-validation para DT\n",
    "cv_scores_for_dt_model = cross_validate_model(DecisionTreeClassifier(random_state=42),X,y,5)\n",
    "print(cv_scores_for_dt_model)"
   ]
  },
  {
   "cell_type": "code",
   "execution_count": null,
   "id": "66cb3db1",
   "metadata": {},
   "outputs": [],
   "source": [
    "#Relembrando o Cross-validation do RL\n",
    "print(cv_scores_for_rl_model)"
   ]
  },
  {
   "cell_type": "markdown",
   "id": "796c1bed",
   "metadata": {},
   "source": [
    "#### Usando o F1-score para comparar a harmonia dos dois modelos\n",
    " + o F1-score é a média harmônica da precisão e recall. O valor mais alto possível de uma pontuação F é 1,0, indicando precisão e rechamada perfeitas"
   ]
  },
  {
   "cell_type": "code",
   "execution_count": null,
   "id": "5fa50607",
   "metadata": {},
   "outputs": [],
   "source": [
    "from sklearn.metrics import f1_score\n",
    "f1_LR = f1_score(y_test, y_pred, average='macro')\n",
    "f1_DT = f1_score(y_test, y_pred2, average='macro')\n",
    "\n",
    "print(\"RL F1-score %.2F\" % f1_LR)\n",
    "print(\"DT F1-score %.2F\" %f1_DT)"
   ]
  },
  {
   "cell_type": "markdown",
   "id": "cec68c65",
   "metadata": {},
   "source": [
    "+ Comparando os dois modelos, Regressão Logística e Decision Tree, a DT possui um F1-score maior, sendo de 0.83 em comparação com os 0,49 da RL."
   ]
  },
  {
   "cell_type": "code",
   "execution_count": null,
   "id": "09d5ca8e",
   "metadata": {},
   "outputs": [],
   "source": [
    "#Vamos ver um pouco como a Decision Tree funciona\n",
    "from IPython.display import Image\n",
    "from sklearn import tree\n",
    "import pydotplus\n",
    "\n",
    "feature_names = X.columns\n",
    "\n",
    "#Cria um Dot Plot\n",
    "dot_data = tree.export_graphviz(dt_model,out_file=None,feature_names=feature_names,class_names=target_names)\n",
    "\n",
    "graph = pydotplus.graph_from_dot_data(dot_data)\n",
    "\n",
    "Image(graph.create_png())"
   ]
  },
  {
   "cell_type": "markdown",
   "id": "4692d69f",
   "metadata": {},
   "source": [
    "### Conclusão\n",
    "\n",
    "Nossa tarefa era construir um modelo de ML para prever o risco de diabetes em estágio inicial, dados os sintomas e sinais de um indivíduo.\n",
    "Em nossa análise, descobrimos que as seguintes características tiveram maior importância e influência em nossa previsão do que as outras:\n",
    "\n",
    "    - Idade\n",
    "    - Perda de peso repentina\n",
    "    - Rigidez muscular\n",
    "    - Irritabilidade\n",
    "    - Poliúria (Expelir quantidades anormalmente grandes de urina)\n",
    "    - Cicatrização demorada\n",
    "    - Polifagia  (Comer em excesso devido a fome excessiva ou apetite elevado)\n",
    "    \n",
    "Além disso, nossos modelos (LogisticRegression (0,79) e Decision Tree (0,88)) tiveram uma boa precisão, com o modelo classificador de Decision Tree sendo o mais alto.\n",
    "\n",
    "Usando a validação cruzada, descobrimos que mesmo o modelo RL pode ser melhorado para nos dar uma precisão de 0,83 com um desvio padrão de 0,058, enquanto que o modelo DT foi de 0,91 com um desvio padrão de 0.0094.\n",
    "\n",
    "Conclui-se então que aparentemente o DR se sai melhor do que o modelo RL."
   ]
  },
  {
   "cell_type": "markdown",
   "id": "34feee2f",
   "metadata": {},
   "source": [
    "#### Salvando os modelos"
   ]
  },
  {
   "cell_type": "code",
   "execution_count": null,
   "id": "af276f80",
   "metadata": {},
   "outputs": [],
   "source": [
    "import joblib\n",
    "print(\"Joblib\",joblib.__version__)"
   ]
  },
  {
   "cell_type": "code",
   "execution_count": null,
   "id": "5ee6d311",
   "metadata": {},
   "outputs": [],
   "source": [
    "# RL\n",
    "model_file_rl = open(\"logistic_regression_model_diabetes.pkl\",\"wb\")\n",
    "joblib.dump(lr_model,model_file_rl)\n",
    "model_file_rl.close()"
   ]
  },
  {
   "cell_type": "code",
   "execution_count": null,
   "id": "624167d4",
   "metadata": {},
   "outputs": [],
   "source": [
    "# DT\n",
    "model_file_dt = open(\"decision_tree_model_diabetes.pkl\",\"wb\")\n",
    "joblib.dump(dt_model,model_file_dt)\n",
    "model_file_dt.close()"
   ]
  }
 ],
 "metadata": {
  "kernelspec": {
   "display_name": "Python 3",
   "language": "python",
   "name": "python3"
  },
  "language_info": {
   "codemirror_mode": {
    "name": "ipython",
    "version": 3
   },
   "file_extension": ".py",
   "mimetype": "text/x-python",
   "name": "python",
   "nbconvert_exporter": "python",
   "pygments_lexer": "ipython3",
   "version": "3.8.8"
  }
 },
 "nbformat": 4,
 "nbformat_minor": 5
}
